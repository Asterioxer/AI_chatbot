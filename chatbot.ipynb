{
 "cells": [
  {
   "cell_type": "markdown",
   "id": "855210be",
   "metadata": {},
   "source": [
    "# NCERT Class 6 Science Offline QA Chatbot\n",
    "\n",
    "This notebook implements an offline-first retrieval-based QA chatbot for NCERT Class 6 Science.\n",
    "\n",
    "**Features:**\n",
    "- Bilingual support (English/Hindi)\n",
    "- Offline operation\n",
    "- Fast response time (&lt; 5ms average)\n",
    "- Conversation logging\n",
    "- Keyword-based matching algorithm"
   ]
  },
  {
   "cell_type": "markdown",
   "id": "1fa19931",
   "metadata": {},
   "source": [
    "## 1. Import Required Libraries"
   ]
  },
  {
   "cell_type": "code",
   "execution_count": 4,
   "id": "21c79a34",
   "metadata": {},
   "outputs": [
    {
     "name": "stdout",
     "output_type": "stream",
     "text": [
      "Libraries imported successfully!\n"
     ]
    }
   ],
   "source": [
    "import pandas as pd\n",
    "import numpy as np\n",
    "import re\n",
    "import json\n",
    "import time\n",
    "import string\n",
    "from datetime import datetime\n",
    "from collections import Counter\n",
    "import warnings\n",
    "warnings.filterwarnings('ignore')\n",
    "\n",
    "print('Libraries imported successfully!')"
   ]
  },
  {
   "cell_type": "markdown",
   "id": "da188168",
   "metadata": {},
   "source": [
    "## 2. Load Datasets"
   ]
  },
  {
   "cell_type": "code",
   "execution_count": 5,
   "id": "6155a61a",
   "metadata": {},
   "outputs": [
    {
     "name": "stdout",
     "output_type": "stream",
     "text": [
      "English dataset loaded: 112 questions\n",
      "Hindi dataset loaded: 112 questions\n",
      "\n",
      "Sample English questions:\n",
      "1. Q: What is science?\n",
      "   A: A way of thinking, observing and understanding the world around us.\n",
      "2. Q: Why is curiosity important in science?\n",
      "   A: Curiosity drives us to ask questions and seek answers about the world.\n",
      "3. Q: What makes Earth unique?\n",
      "   A: Earth is the only planet known to support life.\n",
      "\n",
      "Sample Hindi questions:\n",
      "1. प्रश्न: विज्ञान क्या है?\n",
      "   उत्तर: यह सोचने, देखने और हमारे चारों ओर की दुनिया को समझने का एक तरीका है।\n",
      "2. प्रश्न: विज्ञान में जिज्ञासा क्यों महत्वपूर्ण है?\n",
      "   उत्तर: जिज्ञासा हमें दुनिया के बारे में प्रश्न पूछने और उत्तर खोजने के लिए प्रेरित करती है।\n",
      "3. प्रश्न: पृथ्वी को क्या अनूठा बनाता है?\n",
      "   उत्तर: पृथ्वी एकमात्र ऐसा ग्रह है जिस पर जीवन है।\n"
     ]
    }
   ],
   "source": [
    "# Load English and Hindi datasets\n",
    "try:\n",
    "    english_df = pd.read_csv(r\"C:\\Users\\SOHAM\\Desktop\\AI_chatbot\\data\\ncert_class6_science_100_questions.csv\")\n",
    "    hindi_df = pd.read_csv(r\"C:\\Users\\SOHAM\\Desktop\\AI_chatbot\\data\\ncert_class6_science_100_questions_hindi.csv\")\n",
    "    \n",
    "    print(f'English dataset loaded: {len(english_df)} questions')\n",
    "    print(f'Hindi dataset loaded: {len(hindi_df)} questions')\n",
    "    \n",
    "    # Display sample data\n",
    "    print('\\nSample English questions:')\n",
    "    for i in range(3):\n",
    "        print(f'{i+1}. Q: {english_df.iloc[i][\"question\"]}')\n",
    "        print(f'   A: {english_df.iloc[i][\"answer\"]}')\n",
    "    \n",
    "    print('\\nSample Hindi questions:')\n",
    "    for i in range(3):\n",
    "        print(f'{i+1}. प्रश्न: {hindi_df.iloc[i][\"question\"]}')\n",
    "        print(f'   उत्तर: {hindi_df.iloc[i][\"answer\"]}')\n",
    "        \n",
    "except FileNotFoundError as e:\n",
    "    print(f'Error loading datasets: {e}')\n",
    "    print('Please ensure the CSV files are in the same directory as this notebook.')"
   ]
  },
  {
   "cell_type": "markdown",
   "id": "e6962e6d",
   "metadata": {},
   "source": [
    "## 3. Offline QA Chatbot Implementation"
   ]
  },
  {
   "cell_type": "code",
   "execution_count": 6,
   "id": "e2821354",
   "metadata": {},
   "outputs": [],
   "source": [
    "class OfflineQAChatbot:\n",
    "    def __init__(self, english_df, hindi_df):\n",
    "        self.english_df = english_df\n",
    "        self.hindi_df = hindi_df\n",
    "        self.conversation_log = []\n",
    "        \n",
    "        # Create keyword mappings for better matching\n",
    "        self.create_keyword_mappings()\n",
    "        print('Chatbot initialized with keyword mappings!')\n",
    "        \n",
    "    def create_keyword_mappings(self):\n",
    "        \"\"\"Create keyword mappings for better question matching\"\"\"\n",
    "        # English keywords mapping\n",
    "        self.english_keywords = {\n",
    "            'science': ['science', 'scientific', 'research', 'study'],\n",
    "            'magnet': ['magnet', 'magnetic', 'magnetism', 'pole', 'attract'],\n",
    "            'water': ['water', 'liquid', 'h2o', 'wet', 'boil', 'freeze', 'ice', 'steam'],\n",
    "            'plant': ['plant', 'tree', 'leaf', 'root', 'stem', 'photosynthesis', 'flower'],\n",
    "            'food': ['food', 'eat', 'nutrition', 'diet', 'meal', 'nutrients'],\n",
    "            'animal': ['animal', 'creature', 'living', 'organism', 'herbivore', 'carnivore'],\n",
    "            'light': ['light', 'bright', 'shine', 'shadow', 'reflection', 'mirror'],\n",
    "            'temperature': ['temperature', 'hot', 'cold', 'thermometer', 'heat'],\n",
    "            'motion': ['motion', 'move', 'movement', 'speed', 'velocity', 'circular'],\n",
    "            'matter': ['matter', 'material', 'substance', 'solid', 'liquid', 'gas'],\n",
    "            'separation': ['separate', 'filter', 'sieve', 'decant', 'evaporation'],\n",
    "            'habitat': ['habitat', 'environment', 'adaptation', 'ecosystem']\n",
    "        }\n",
    "        \n",
    "        # Hindi keywords mapping  \n",
    "        self.hindi_keywords = {\n",
    "            'विज्ञान': ['विज्ञान', 'वैज्ञानिक', 'अनुसंधान'],\n",
    "            'चुंबक': ['चुंबक', 'चुंबकीय', 'आकर्षण', 'ध्रुव'],\n",
    "            'पानी': ['पानी', 'जल', 'द्रव', 'बर्फ', 'भाप', 'उबलना'],\n",
    "            'पौधा': ['पौधा', 'वृक्ष', 'पत्ती', 'जड़', 'तना', 'प्रकाश संश्लेषण', 'फूल'],\n",
    "            'भोजन': ['भोजन', 'खाना', 'आहार', 'पोषण', 'पोषक तत्व'],\n",
    "            'जानवर': ['जानवर', 'प्राणी', 'जीव', 'शाकाहारी', 'मांसाहारी'],\n",
    "            'प्रकाश': ['प्रकाश', 'रोशनी', 'छाया', 'परावर्तन', 'दर्पण'],\n",
    "            'तापमान': ['तापमान', 'गर्म', 'ठंडा', 'थर्मामीटर'],\n",
    "            'गति': ['गति', 'हिलना', 'चलना', 'गतिशील', 'वृत्ताकार'],\n",
    "            'पदार्थ': ['पदार्थ', 'वस्तु', 'ठोस', 'द्रव', 'गैस'],\n",
    "            'पृथक्करण': ['पृथक्करण', 'छानना', 'निस्यंदन', 'वाष्पीकरण'],\n",
    "            'आवास': ['आवास', 'पर्यावरण', 'अनुकूलन', 'पारिस्थितिकी']\n",
    "        }\n",
    "    \n",
    "    def _detect_language(self, text):\n",
    "        \"\"\"Detect language based on character set\"\"\"\n",
    "        hindi_chars = set('अआइईउऊएऐओऔकखगघङचछजझञटठडढणतथदधनपफबभमयरलवशषसहांीूेैोौ्')\n",
    "        text_chars = set(text)\n",
    "        \n",
    "        if hindi_chars.intersection(text_chars):\n",
    "            return 'hindi'\n",
    "        else:\n",
    "            return 'english'\n",
    "    \n",
    "    def _get_keywords_from_text(self, text, language):\n",
    "        \"\"\"Extract keywords from text based on language\"\"\"\n",
    "        text = text.lower()\n",
    "        found_keywords = []\n",
    "        \n",
    "        if language == 'english':\n",
    "            keyword_dict = self.english_keywords\n",
    "        else:\n",
    "            keyword_dict = self.hindi_keywords\n",
    "            \n",
    "        for main_keyword, variations in keyword_dict.items():\n",
    "            for variation in variations:\n",
    "                if variation in text:\n",
    "                    found_keywords.append(main_keyword)\n",
    "                    break\n",
    "        \n",
    "        return found_keywords\n",
    "    \n",
    "    def _find_best_match(self, query, language):\n",
    "        \"\"\"Find best matching question using keyword and text similarity\"\"\"\n",
    "        query_keywords = self._get_keywords_from_text(query, language)\n",
    "        \n",
    "        if language == 'english':\n",
    "            df_to_use = self.english_df\n",
    "        else:\n",
    "            df_to_use = self.hindi_df\n",
    "        \n",
    "        best_score = 0\n",
    "        best_idx = 0\n",
    "        \n",
    "        for idx, question in enumerate(df_to_use['question'].values):\n",
    "            question_keywords = self._get_keywords_from_text(question, language)\n",
    "            \n",
    "            # Keyword overlap score\n",
    "            if query_keywords and question_keywords:\n",
    "                keyword_overlap = len(set(query_keywords) & set(question_keywords)) / len(set(query_keywords) | set(question_keywords))\n",
    "            else:\n",
    "                keyword_overlap = 0\n",
    "            \n",
    "            # Text similarity score (simple word overlap)\n",
    "            query_words = set(query.lower().split())\n",
    "            question_words = set(question.lower().split())\n",
    "            text_overlap = len(query_words & question_words) / len(query_words | question_words) if (query_words | question_words) else 0\n",
    "            \n",
    "            # Combined score (keyword matching weighted higher)\n",
    "            combined_score = 0.7 * keyword_overlap + 0.3 * text_overlap\n",
    "            \n",
    "            if combined_score > best_score:\n",
    "                best_score = combined_score\n",
    "                best_idx = idx\n",
    "        \n",
    "        return best_idx, best_score, df_to_use\n",
    "    \n",
    "    def get_answer(self, query, threshold=0.15):\n",
    "        \"\"\"Get answer for a given query\"\"\"\n",
    "        start_time = time.time()\n",
    "        \n",
    "        # Detect language\n",
    "        language = self._detect_language(query)\n",
    "        \n",
    "        # Find best match\n",
    "        best_idx, similarity, df_to_use = self._find_best_match(query, language)\n",
    "        \n",
    "        # Get answer if similarity is above threshold\n",
    "        if similarity >= threshold:\n",
    "            answer = df_to_use.iloc[best_idx]['answer']\n",
    "            matched_question = df_to_use.iloc[best_idx]['question']\n",
    "            confidence = similarity\n",
    "        else:\n",
    "            if language == 'hindi':\n",
    "                answer = \"क्षमा करें, मैं इस प्रश्न का उत्तर नहीं खोज सका। कृपया अपना प्रश्न अलग तरीके से पूछें या विज्ञान से संबंधित प्रश्न पूछें।\"\n",
    "            else:\n",
    "                answer = \"Sorry, I couldn't find an answer to your question. Please try rephrasing it or ask a science-related question.\"\n",
    "            matched_question = \"No match found\"\n",
    "            confidence = 0\n",
    "        \n",
    "        processing_time = time.time() - start_time\n",
    "        \n",
    "        # Log the conversation\n",
    "        log_entry = {\n",
    "            'timestamp': datetime.now().isoformat(),\n",
    "            'query': query,\n",
    "            'language': language,\n",
    "            'matched_question': matched_question,\n",
    "            'answer': answer,\n",
    "            'confidence': confidence,\n",
    "            'processing_time': processing_time\n",
    "        }\n",
    "        \n",
    "        self.conversation_log.append(log_entry)\n",
    "        \n",
    "        return {\n",
    "            'answer': answer,\n",
    "            'confidence': confidence,\n",
    "            'language': language,\n",
    "            'processing_time': processing_time,\n",
    "            'matched_question': matched_question\n",
    "        }\n",
    "    \n",
    "    def save_logs(self, filename='chatbot_logs.json'):\n",
    "        \"\"\"Save conversation logs for validation\"\"\"\n",
    "        with open(filename, 'w', encoding='utf-8') as f:\n",
    "            json.dump(self.conversation_log, f, ensure_ascii=False, indent=2)\n",
    "        print(f'Logs saved to {filename}')\n",
    "        return filename\n",
    "    \n",
    "    def get_stats(self):\n",
    "        \"\"\"Get chatbot usage statistics\"\"\"\n",
    "        if not self.conversation_log:\n",
    "            return \"No conversations yet\"\n",
    "        \n",
    "        total_queries = len(self.conversation_log)\n",
    "        avg_processing_time = sum([log['processing_time'] for log in self.conversation_log]) / total_queries\n",
    "        avg_confidence = sum([log['confidence'] for log in self.conversation_log]) / total_queries\n",
    "        \n",
    "        language_count = {}\n",
    "        for log in self.conversation_log:\n",
    "            lang = log['language']\n",
    "            language_count[lang] = language_count.get(lang, 0) + 1\n",
    "        \n",
    "        return {\n",
    "            'total_queries': total_queries,\n",
    "            'avg_processing_time': avg_processing_time,\n",
    "            'avg_confidence': avg_confidence,\n",
    "            'language_distribution': language_count\n",
    "        }"
   ]
  },
  {
   "cell_type": "markdown",
   "id": "e608bbc7",
   "metadata": {},
   "source": [
    "## 4. Initialize the Chatbot"
   ]
  },
  {
   "cell_type": "code",
   "execution_count": 7,
   "id": "15d7331c",
   "metadata": {},
   "outputs": [
    {
     "name": "stdout",
     "output_type": "stream",
     "text": [
      "Chatbot initialized with keyword mappings!\n",
      "\n",
      "✅ Chatbot ready to answer questions!\n",
      "\n",
      "You can ask questions in English or Hindi about NCERT Class 6 Science topics.\n"
     ]
    }
   ],
   "source": [
    "# Initialize the chatbot with datasets\n",
    "chatbot = OfflineQAChatbot(english_df, hindi_df)\n",
    "print('\\n✅ Chatbot ready to answer questions!')\n",
    "print('\\nYou can ask questions in English or Hindi about NCERT Class 6 Science topics.')"
   ]
  },
  {
   "cell_type": "code",
   "execution_count": 8,
   "id": "bc6b073f",
   "metadata": {},
   "outputs": [
    {
     "name": "stdout",
     "output_type": "stream",
     "text": [
      "🔬 NCERT Class 6 Science Chatbot (type 'exit' to quit)\n",
      "==================================================\n"
     ]
    },
    {
     "data": {
      "text/markdown": [
       "**👤 You →** What is science?"
      ],
      "text/plain": [
       "<IPython.core.display.Markdown object>"
      ]
     },
     "metadata": {},
     "output_type": "display_data"
    },
    {
     "data": {
      "text/markdown": [
       "**🤖 Chatbot →** A way of thinking, observing and understanding the world around us.  \n",
       "_Confidence: 1.00, Time: 22.9 ms_"
      ],
      "text/plain": [
       "<IPython.core.display.Markdown object>"
      ]
     },
     "metadata": {},
     "output_type": "display_data"
    },
    {
     "name": "stdout",
     "output_type": "stream",
     "text": [
      "--------------------------------------------------\n"
     ]
    },
    {
     "data": {
      "text/markdown": [
       "**👤 You →** How do plants make food?"
      ],
      "text/plain": [
       "<IPython.core.display.Markdown object>"
      ]
     },
     "metadata": {},
     "output_type": "display_data"
    },
    {
     "data": {
      "text/markdown": [
       "**🤖 Chatbot →** Rice, wheat, fruits, vegetables, pulses.  \n",
       "_Confidence: 0.70, Time: 2.0 ms_"
      ],
      "text/plain": [
       "<IPython.core.display.Markdown object>"
      ]
     },
     "metadata": {},
     "output_type": "display_data"
    },
    {
     "name": "stdout",
     "output_type": "stream",
     "text": [
      "--------------------------------------------------\n",
      "👋 Goodbye!\n"
     ]
    }
   ],
   "source": [
    "# Cell X: User ↔ Chatbot Q&A Loop from CSV\n",
    "# ----------------------------------------\n",
    "# This cell lets you repeatedly ask questions until you type 'exit'.\n",
    "\n",
    "from IPython.display import display, Markdown\n",
    "\n",
    "def qa_loop():\n",
    "    \"\"\"\n",
    "    Continuously prompt the user for questions,\n",
    "    fetch answers from the CSV-based chatbot,\n",
    "    and display both the question and answer.\n",
    "    Type 'exit' to end the loop.\n",
    "    \"\"\"\n",
    "    print(\"🔬 NCERT Class 6 Science Chatbot (type 'exit' to quit)\")\n",
    "    print(\"=\" * 50)\n",
    "    \n",
    "    while True:\n",
    "        user_q = input(\"👤 You: \").strip()\n",
    "        if not user_q:\n",
    "            print(\"❗ Please enter a question.\")\n",
    "            continue\n",
    "        if user_q.lower() in ['exit', 'quit']:\n",
    "            print(\"👋 Goodbye!\")\n",
    "            break\n",
    "        \n",
    "        result = chatbot.get_answer(user_q)\n",
    "        display(Markdown(f\"**👤 You →** {user_q}\"))\n",
    "        display(Markdown(\n",
    "            f\"**🤖 Chatbot →** {result['answer']}  \\n\"\n",
    "            f\"_Confidence: {result['confidence']:.2f}, Time: {result['processing_time']*1000:.1f} ms_\"\n",
    "        ))\n",
    "        print(\"-\" * 50)\n",
    "\n",
    "# Run the QA loop\n",
    "qa_loop()"
   ]
  },
  {
   "cell_type": "markdown",
   "id": "a71c87fc",
   "metadata": {},
   "source": [
    "## 5. Test the Chatbot"
   ]
  },
  {
   "cell_type": "code",
   "execution_count": 6,
   "id": "215a0ce8",
   "metadata": {},
   "outputs": [
    {
     "name": "stdout",
     "output_type": "stream",
     "text": [
      "Testing the chatbot with sample questions:\n",
      "==================================================\n",
      "\n",
      "Test 1:\n",
      "Question: What is science?\n",
      "Language: english\n",
      "Answer: A way of thinking, observing and understanding the world around us.\n",
      "Confidence: 1.000\n",
      "Processing Time: 0.0298s\n",
      "------------------------------\n",
      "\n",
      "Test 2:\n",
      "Question: How do plants make food?\n",
      "Language: english\n",
      "Answer: Rice, wheat, fruits, vegetables, pulses.\n",
      "Confidence: 0.700\n",
      "Processing Time: 0.0010s\n",
      "------------------------------\n",
      "\n",
      "Test 3:\n",
      "Question: Tell me about magnets\n",
      "Language: english\n",
      "Answer: An object that attracts iron and other magnetic materials.\n",
      "Confidence: 0.700\n",
      "Processing Time: 0.0000s\n",
      "------------------------------\n",
      "\n",
      "Test 4:\n",
      "Question: What is photosynthesis?\n",
      "Language: english\n",
      "Answer: Process by which plants make food using sunlight.\n",
      "Confidence: 1.000\n",
      "Processing Time: 0.0005s\n",
      "------------------------------\n",
      "\n",
      "Test 5:\n",
      "Question: विज्ञान क्या है?\n",
      "Language: hindi\n",
      "Answer: यह सोचने, देखने और हमारे चारों ओर की दुनिया को समझने का एक तरीका है।\n",
      "Confidence: 1.000\n",
      "Processing Time: 0.0017s\n",
      "------------------------------\n",
      "\n",
      "Test 6:\n",
      "Question: चुंबक के बारे में बताएं\n",
      "Language: hindi\n",
      "Answer: उत्तरी ध्रुव और दक्षिणी ध्रुव चुंबक के दो ध्रुव हैं।\n",
      "Confidence: 0.775\n",
      "Processing Time: 0.0022s\n",
      "------------------------------\n",
      "\n",
      "Test 7:\n",
      "Question: प्रकाश संश्लेषण क्या है?\n",
      "Language: hindi\n",
      "Answer: पौधों द्वारा सूर्य की रोशनी का उपयोग करके भोजन बनाने की प्रक्रिया।\n",
      "Confidence: 1.000\n",
      "Processing Time: 0.0010s\n",
      "------------------------------\n",
      "\n",
      "Test 8:\n",
      "Question: पौधे कैसे भोजन बनाते हैं?\n",
      "Language: hindi\n",
      "Answer: पौधे और जानवर भोजन के दो मुख्य स्रोत हैं।\n",
      "Confidence: 0.760\n",
      "Processing Time: 0.0000s\n",
      "------------------------------\n"
     ]
    }
   ],
   "source": [
    "# Test with sample questions\n",
    "test_questions = [\n",
    "    \"What is science?\",\n",
    "    \"How do plants make food?\", \n",
    "    \"Tell me about magnets\",\n",
    "    \"What is photosynthesis?\",\n",
    "    \"विज्ञान क्या है?\",\n",
    "    \"चुंबक के बारे में बताएं\",\n",
    "    \"प्रकाश संश्लेषण क्या है?\",\n",
    "    \"पौधे कैसे भोजन बनाते हैं?\"\n",
    "]\n",
    "\n",
    "print(\"Testing the chatbot with sample questions:\")\n",
    "print(\"=\" * 50)\n",
    "\n",
    "for i, question in enumerate(test_questions):\n",
    "    result = chatbot.get_answer(question)\n",
    "    \n",
    "    print(f\"\\nTest {i+1}:\")\n",
    "    print(f\"Question: {question}\")\n",
    "    print(f\"Language: {result['language']}\")\n",
    "    print(f\"Answer: {result['answer']}\")\n",
    "    print(f\"Confidence: {result['confidence']:.3f}\")\n",
    "    print(f\"Processing Time: {result['processing_time']:.4f}s\")\n",
    "    print(\"-\" * 30)"
   ]
  },
  {
   "cell_type": "markdown",
   "id": "f60e7d44",
   "metadata": {},
   "source": [
    "## 6. Interactive Chatbot Interface"
   ]
  },
  {
   "cell_type": "code",
   "execution_count": 3,
   "id": "78e5c9b5",
   "metadata": {},
   "outputs": [],
   "source": [
    "def interactive_chat():\n",
    "    \"\"\"Interactive chat interface\"\"\"\n",
    "    print(\"\\n🤖 NCERT Class 6 Science Chatbot\")\n",
    "    print(\"Ask me questions in English or Hindi about science topics!\")\n",
    "    print(\"Type 'quit' or 'exit' to stop, 'stats' for statistics\\n\")\n",
    "    \n",
    "    while True:\n",
    "        try:\n",
    "            user_input = input(\"Your question: \").strip()\n",
    "            \n",
    "            if user_input.lower() in ['quit', 'exit', 'बाहर निकलें']:\n",
    "                print(\"\\nThank you for using the chatbot! / चैटबॉट का उपयोग करने के लिए धन्यवाद!\")\n",
    "                break\n",
    "            \n",
    "            if user_input.lower() == 'stats':\n",
    "                stats = chatbot.get_stats()\n",
    "                print(f\"\\nChatbot Statistics: {stats}\")\n",
    "                continue\n",
    "            \n",
    "            if not user_input:\n",
    "                print(\"Please enter a question.\")\n",
    "                continue\n",
    "            \n",
    "            # Get answer\n",
    "            result = chatbot.get_answer(user_input)\n",
    "            \n",
    "            print(f\"\\n🤖 Answer: {result['answer']}\")\n",
    "            print(f\"   (Confidence: {result['confidence']:.3f}, Time: {result['processing_time']:.4f}s)\\n\")\n",
    "            \n",
    "        except KeyboardInterrupt:\n",
    "            print(\"\\n\\nChatbot stopped. Goodbye!\")\n",
    "            break\n",
    "        except Exception as e:\n",
    "            print(f\"An error occurred: {e}\")\n",
    "\n",
    "# Uncomment the line below to start interactive chat\n",
    "# interactive_chat()"
   ]
  },
  {
   "cell_type": "markdown",
   "id": "33d75ec5",
   "metadata": {},
   "source": [
    "## 7. Performance Testing and Validation"
   ]
  },
  {
   "cell_type": "code",
   "execution_count": 8,
   "id": "5b5ae637",
   "metadata": {},
   "outputs": [
    {
     "name": "stdout",
     "output_type": "stream",
     "text": [
      "Performance Testing:\n",
      "==============================\n",
      " 1. What is science?               | Conf: 1.000 | Time: 0.0005s\n",
      " 2. विज्ञान क्या है?               | Conf: 1.000 | Time: 0.0000s\n",
      " 3. Tell me about science          | Conf: 0.730 | Time: 0.0000s\n",
      " 4. science kya hai                | Conf: 0.733 | Time: 0.0028s\n",
      " 5. magnet attraction              | Conf: 0.700 | Time: 0.0010s\n",
      " 6. plant food making              | Conf: 0.737 | Time: 0.0010s\n",
      " 7. चुंबक आकर्षण                   | Conf: 0.775 | Time: 0.0023s\n",
      " 8. पौधे खाना                      | Conf: 0.700 | Time: 0.0010s\n",
      " 9. What is gravity?               | Conf: 0.150 | Time: 0.0007s\n",
      "10. गुरुत्वाकर्षण क्या है?         | Conf: 0.150 | Time: 0.0000s\n",
      "\n",
      "Performance Summary:\n",
      "Average processing time: 0.0009s\n",
      "High confidence (≥0.7): 8/10\n",
      "Medium confidence (≥0.3): 0/10\n",
      "Low confidence (<0.3): 2/10\n"
     ]
    }
   ],
   "source": [
    "# Performance testing with various question types\n",
    "performance_questions = [\n",
    "    # Exact matches\n",
    "    \"What is science?\",\n",
    "    \"विज्ञान क्या है?\",\n",
    "    \n",
    "    # Partial matches\n",
    "    \"Tell me about science\",\n",
    "    \"science kya hai\",\n",
    "    \n",
    "    # Keyword-based matches\n",
    "    \"magnet attraction\",\n",
    "    \"plant food making\",\n",
    "    \"चुंबक आकर्षण\",\n",
    "    \"पौधे खाना\",\n",
    "    \n",
    "    # Edge cases\n",
    "    \"What is gravity?\",  # Not in dataset\n",
    "    \"गुरुत्वाकर्षण क्या है?\"  # Not in dataset\n",
    "]\n",
    "\n",
    "print(\"Performance Testing:\")\n",
    "print(\"=\" * 30)\n",
    "\n",
    "total_time = 0\n",
    "high_confidence = 0\n",
    "medium_confidence = 0\n",
    "low_confidence = 0\n",
    "\n",
    "for i, question in enumerate(performance_questions):\n",
    "    result = chatbot.get_answer(question)\n",
    "    total_time += result['processing_time']\n",
    "    \n",
    "    if result['confidence'] >= 0.7:\n",
    "        high_confidence += 1\n",
    "    elif result['confidence'] >= 0.3:\n",
    "        medium_confidence += 1\n",
    "    else:\n",
    "        low_confidence += 1\n",
    "    \n",
    "    print(f\"{i+1:2d}. {question[:30]:<30} | Conf: {result['confidence']:.3f} | Time: {result['processing_time']:.4f}s\")\n",
    "\n",
    "print(f\"\\nPerformance Summary:\")\n",
    "print(f\"Average processing time: {total_time/len(performance_questions):.4f}s\")\n",
    "print(f\"High confidence (≥0.7): {high_confidence}/{len(performance_questions)}\")\n",
    "print(f\"Medium confidence (≥0.3): {medium_confidence}/{len(performance_questions)}\")\n",
    "print(f\"Low confidence (<0.3): {low_confidence}/{len(performance_questions)}\")"
   ]
  },
  {
   "cell_type": "markdown",
   "id": "10d7a3a5",
   "metadata": {},
   "source": [
    "## 8. Save Conversation Logs"
   ]
  },
  {
   "cell_type": "code",
   "execution_count": 9,
   "id": "1de163df",
   "metadata": {},
   "outputs": [
    {
     "name": "stdout",
     "output_type": "stream",
     "text": [
      "Logs saved to ncert_chatbot_validation_logs.json\n",
      "\n",
      "Chatbot Usage Statistics:\n",
      "Total queries processed: 18\n",
      "Average processing time: 0.0025s\n",
      "Average confidence: 0.756\n",
      "Language distribution: {'english': 10, 'hindi': 8}\n",
      "\n",
      "Sample log entries (last 3):\n",
      "Query: पौधे खाना\n",
      "Answer: पौधे और जानवर भोजन के दो मुख्य स्रोत हैं।...\n",
      "Confidence: 0.700\n",
      "\n",
      "Query: What is gravity?\n",
      "Answer: A way of thinking, observing and understanding the...\n",
      "Confidence: 0.150\n",
      "\n",
      "Query: गुरुत्वाकर्षण क्या है?\n",
      "Answer: यह सोचने, देखने और हमारे चारों ओर की दुनिया को समझ...\n",
      "Confidence: 0.150\n",
      "\n"
     ]
    }
   ],
   "source": [
    "# Save logs for validation\n",
    "log_filename = chatbot.save_logs('ncert_chatbot_validation_logs.json')\n",
    "\n",
    "# Display log summary\n",
    "stats = chatbot.get_stats()\n",
    "print(f\"\\nChatbot Usage Statistics:\")\n",
    "print(f\"Total queries processed: {stats['total_queries']}\")\n",
    "print(f\"Average processing time: {stats['avg_processing_time']:.4f}s\")\n",
    "print(f\"Average confidence: {stats['avg_confidence']:.3f}\")\n",
    "print(f\"Language distribution: {stats['language_distribution']}\")\n",
    "\n",
    "# Show sample log entries\n",
    "print(f\"\\nSample log entries (last 3):\")\n",
    "for log in chatbot.conversation_log[-3:]:\n",
    "    print(f\"Query: {log['query']}\")\n",
    "    print(f\"Answer: {log['answer'][:50]}...\")\n",
    "    print(f\"Confidence: {log['confidence']:.3f}\\n\")"
   ]
  },
  {
   "cell_type": "markdown",
   "id": "27c2a5b7",
   "metadata": {},
   "source": [
    "## 9. Translation Testing Simulation\n",
    "\n",
    "Note: This simulates translation functionality. In a real implementation, you would use MarianMT models."
   ]
  },
  {
   "cell_type": "code",
   "execution_count": 10,
   "id": "5f0c94ed",
   "metadata": {},
   "outputs": [
    {
     "name": "stdout",
     "output_type": "stream",
     "text": [
      "Translation Latency Testing (Simulation):\n",
      "========================================\n",
      "Original: What is science?\n",
      "Translated: Hindi translation of: What is science?\n",
      "Time: 0.0016s\n",
      "\n",
      "Original: How do plants make food?\n",
      "Translated: Hindi translation of: How do plants make food?\n",
      "Time: 0.0018s\n",
      "\n",
      "Original: विज्ञान क्या है?\n",
      "Translated: English translation of: विज्ञान क्या है?\n",
      "Time: 0.0015s\n",
      "\n",
      "Original: पौधे कैसे भोजन बनाते हैं?\n",
      "Translated: English translation of: पौधे कैसे भोजन बनाते हैं?\n",
      "Time: 0.0013s\n",
      "\n",
      "Average translation time: 0.0016s\n",
      "CPU-only inference simulation: ✅ Under 5ms target\n"
     ]
    }
   ],
   "source": [
    "# Simple translation testing (simulation)\n",
    "def test_translation_latency():\n",
    "    \"\"\"Test translation latency simulation\"\"\"\n",
    "    \n",
    "    test_texts = [\n",
    "        \"What is science?\",\n",
    "        \"How do plants make food?\",\n",
    "        \"विज्ञान क्या है?\",\n",
    "        \"पौधे कैसे भोजन बनाते हैं?\"\n",
    "    ]\n",
    "    \n",
    "    print(\"Translation Latency Testing (Simulation):\")\n",
    "    print(\"=\" * 40)\n",
    "    \n",
    "    total_translation_time = 0\n",
    "    \n",
    "    for text in test_texts:\n",
    "        start_time = time.time()\n",
    "        \n",
    "        # Simulate translation processing\n",
    "        time.sleep(0.001)  # Simulate 1ms processing time\n",
    "        \n",
    "        # Simple translation logic (for demo)\n",
    "        if chatbot._detect_language(text) == 'english':\n",
    "            translated = f\"Hindi translation of: {text}\"\n",
    "        else:\n",
    "            translated = f\"English translation of: {text}\"\n",
    "        \n",
    "        translation_time = time.time() - start_time\n",
    "        total_translation_time += translation_time\n",
    "        \n",
    "        print(f\"Original: {text}\")\n",
    "        print(f\"Translated: {translated}\")\n",
    "        print(f\"Time: {translation_time:.4f}s\\n\")\n",
    "    \n",
    "    avg_translation_time = total_translation_time / len(test_texts)\n",
    "    print(f\"Average translation time: {avg_translation_time:.4f}s\")\n",
    "    print(f\"CPU-only inference simulation: ✅ Under 5ms target\")\n",
    "\n",
    "test_translation_latency()"
   ]
  },
  {
   "cell_type": "markdown",
   "id": "9970a5d5",
   "metadata": {},
   "source": [
    "## 10. Deployment Notes\n",
    "\n",
    "### For Production Deployment:\n",
    "\n",
    "1. **Install MarianMT for real translation:**\n",
    "   ```bash\n",
    "   pip install transformers torch\n",
    "   ```\n",
    "\n",
    "2. **Replace translation simulation with:**\n",
    "   ```python\n",
    "   from transformers import MarianMTModel, MarianTokenizer\n",
    "   \n",
    "   # Load models\n",
    "   tokenizer_en_hi = MarianTokenizer.from_pretrained('Helsinki-NLP/opus-mt-en-hi')\n",
    "   model_en_hi = MarianMTModel.from_pretrained('Helsinki-NLP/opus-mt-en-hi')\n",
    "   ```\n",
    "\n",
    "3. **For mobile deployment:**\n",
    "   - Use quantized models\n",
    "   - Implement model caching\n",
    "   - Add offline fallback mechanisms\n",
    "\n",
    "4. **Performance optimizations:**\n",
    "   - Pre-compute question embeddings\n",
    "   - Use approximate nearest neighbor search\n",
    "   - Implement response caching"
   ]
  },
  {
   "cell_type": "code",
   "execution_count": 2,
   "id": "d80a62a1",
   "metadata": {},
   "outputs": [
    {
     "name": "stdout",
     "output_type": "stream",
     "text": [
      "🔬 NCERT Class 6 Science Chatbot (type 'exit' to quit)\n",
      "==================================================\n"
     ]
    },
    {
     "ename": "NameError",
     "evalue": "name 'chatbot' is not defined",
     "output_type": "error",
     "traceback": [
      "\u001b[31m---------------------------------------------------------------------------\u001b[39m",
      "\u001b[31mNameError\u001b[39m                                 Traceback (most recent call last)",
      "\u001b[36mCell\u001b[39m\u001b[36m \u001b[39m\u001b[32mIn[2]\u001b[39m\u001b[32m, line 35\u001b[39m\n\u001b[32m     32\u001b[39m         \u001b[38;5;28mprint\u001b[39m(\u001b[33m\"\u001b[39m\u001b[33m-\u001b[39m\u001b[33m\"\u001b[39m * \u001b[32m50\u001b[39m)\n\u001b[32m     34\u001b[39m \u001b[38;5;66;03m# Run the QA loop\u001b[39;00m\n\u001b[32m---> \u001b[39m\u001b[32m35\u001b[39m \u001b[43mqa_loop\u001b[49m\u001b[43m(\u001b[49m\u001b[43m)\u001b[49m\n",
      "\u001b[36mCell\u001b[39m\u001b[36m \u001b[39m\u001b[32mIn[2]\u001b[39m\u001b[32m, line 26\u001b[39m, in \u001b[36mqa_loop\u001b[39m\u001b[34m()\u001b[39m\n\u001b[32m     23\u001b[39m     \u001b[38;5;28mprint\u001b[39m(\u001b[33m\"\u001b[39m\u001b[33m👋 Goodbye!\u001b[39m\u001b[33m\"\u001b[39m)\n\u001b[32m     24\u001b[39m     \u001b[38;5;28;01mbreak\u001b[39;00m\n\u001b[32m---> \u001b[39m\u001b[32m26\u001b[39m result = \u001b[43mchatbot\u001b[49m.get_answer(user_q)\n\u001b[32m     27\u001b[39m display(Markdown(\u001b[33mf\u001b[39m\u001b[33m\"\u001b[39m\u001b[33m**👤 You →** \u001b[39m\u001b[38;5;132;01m{\u001b[39;00muser_q\u001b[38;5;132;01m}\u001b[39;00m\u001b[33m\"\u001b[39m))\n\u001b[32m     28\u001b[39m display(Markdown(\n\u001b[32m     29\u001b[39m     \u001b[33mf\u001b[39m\u001b[33m\"\u001b[39m\u001b[33m**🤖 Chatbot →** \u001b[39m\u001b[38;5;132;01m{\u001b[39;00mresult[\u001b[33m'\u001b[39m\u001b[33manswer\u001b[39m\u001b[33m'\u001b[39m]\u001b[38;5;132;01m}\u001b[39;00m\u001b[33m  \u001b[39m\u001b[38;5;130;01m\\n\u001b[39;00m\u001b[33m\"\u001b[39m\n\u001b[32m     30\u001b[39m     \u001b[33mf\u001b[39m\u001b[33m\"\u001b[39m\u001b[33m_Confidence: \u001b[39m\u001b[38;5;132;01m{\u001b[39;00mresult[\u001b[33m'\u001b[39m\u001b[33mconfidence\u001b[39m\u001b[33m'\u001b[39m]\u001b[38;5;132;01m:\u001b[39;00m\u001b[33m.2f\u001b[39m\u001b[38;5;132;01m}\u001b[39;00m\u001b[33m, Time: \u001b[39m\u001b[38;5;132;01m{\u001b[39;00mresult[\u001b[33m'\u001b[39m\u001b[33mprocessing_time\u001b[39m\u001b[33m'\u001b[39m]*\u001b[32m1000\u001b[39m\u001b[38;5;132;01m:\u001b[39;00m\u001b[33m.1f\u001b[39m\u001b[38;5;132;01m}\u001b[39;00m\u001b[33m ms_\u001b[39m\u001b[33m\"\u001b[39m\n\u001b[32m     31\u001b[39m ))\n",
      "\u001b[31mNameError\u001b[39m: name 'chatbot' is not defined"
     ]
    }
   ],
   "source": [
    "# Cell X: User ↔ Chatbot Q&A Loop from CSV\n",
    "# ----------------------------------------\n",
    "# This cell lets you repeatedly ask questions until you type 'exit'.\n",
    "\n",
    "from IPython.display import display, Markdown\n",
    "\n",
    "def qa_loop():\n",
    "    \"\"\"\n",
    "    Continuously prompt the user for questions,\n",
    "    fetch answers from the CSV-based chatbot,\n",
    "    and display both the question and answer.\n",
    "    Type 'exit' to end the loop.\n",
    "    \"\"\"\n",
    "    print(\"🔬 NCERT Class 6 Science Chatbot (type 'exit' to quit)\")\n",
    "    print(\"=\" * 50)\n",
    "    \n",
    "    while True:\n",
    "        user_q = input(\"👤 You: \").strip()\n",
    "        if not user_q:\n",
    "            print(\"❗ Please enter a question.\")\n",
    "            continue\n",
    "        if user_q.lower() in ['exit', 'quit']:\n",
    "            print(\"👋 Goodbye!\")\n",
    "            break\n",
    "        \n",
    "        result = chatbot.get_answer(user_q)\n",
    "        display(Markdown(f\"**👤 You →** {user_q}\"))\n",
    "        display(Markdown(\n",
    "            f\"**🤖 Chatbot →** {result['answer']}  \\n\"\n",
    "            f\"_Confidence: {result['confidence']:.2f}, Time: {result['processing_time']*1000:.1f} ms_\"\n",
    "        ))\n",
    "        print(\"-\" * 50)\n",
    "\n",
    "# Run the QA loop\n",
    "qa_loop()"
   ]
  }
 ],
 "metadata": {
  "kernelspec": {
   "display_name": "dl_env",
   "language": "python",
   "name": "python3"
  },
  "language_info": {
   "codemirror_mode": {
    "name": "ipython",
    "version": 3
   },
   "file_extension": ".py",
   "mimetype": "text/x-python",
   "name": "python",
   "nbconvert_exporter": "python",
   "pygments_lexer": "ipython3",
   "version": "3.11.8"
  }
 },
 "nbformat": 4,
 "nbformat_minor": 5
}
